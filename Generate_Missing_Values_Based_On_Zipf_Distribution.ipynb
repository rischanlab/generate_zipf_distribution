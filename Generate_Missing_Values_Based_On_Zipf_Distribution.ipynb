{
 "cells": [
  {
   "cell_type": "code",
   "execution_count": 1,
   "metadata": {
    "collapsed": true
   },
   "outputs": [],
   "source": [
    "import random\n",
    "import numpy as np\n",
    "import pandas as pd\n",
    "import pandas.io.sql as psql\n",
    "import psycopg2 as pg\n",
    "import matplotlib.pyplot as plt"
   ]
  },
  {
   "cell_type": "code",
   "execution_count": 2,
   "metadata": {
    "collapsed": true
   },
   "outputs": [],
   "source": [
    "def randZipf(n, alpha, numSamples): \n",
    "    # Calculate Zeta values from 1 to n: \n",
    "    tmp = np.power( np.arange(1, n+1), -alpha )\n",
    "    zeta = np.r_[0.0, np.cumsum(tmp)]\n",
    "    # Store the translation map: \n",
    "    distMap = [x / zeta[-1] for x in zeta]\n",
    "    # Generate an array of uniform 0-1 pseudo-random values: \n",
    "    u = np.random.random(numSamples)\n",
    "    # bisect them with distMap\n",
    "    v = np.searchsorted(distMap, u)\n",
    "    samples = [t-1 for t in v]\n",
    "    return samples"
   ]
  },
  {
   "cell_type": "markdown",
   "metadata": {},
   "source": [
    "To generate Zipf distribution, we need at least three parameters: \n",
    "1. The number of k (rank)\n",
    "2. Alpha which is must > 1\n",
    "3. The sample size \n",
    "\n",
    "In our case, we have a diabetes dataset with the 8 number of attributes (categorical attributes) and 8 measures (numerical attributes). The number of rows = 98052\n",
    "\n",
    "We have two experiment settings: \n",
    "1. Missing based on zipf distribution on Attributes\n",
    "2. Missing based on zipf distribution on Measures \n",
    "\n",
    "Before add missing values to the dataset, we generate the ideal-topk views, sorted the Attributes and Measures based on the highest utility score which is the most important one. \n",
    "\n",
    "The best attribute/measure will have more missing rather than attributes/measures which have low ranking "
   ]
  },
  {
   "cell_type": "code",
   "execution_count": 3,
   "metadata": {
    "collapsed": true
   },
   "outputs": [],
   "source": [
    "column_rank = list(range(0,8))\n",
    "rows = 98052 # 98052 rows\n",
    "cols = 8 # 8 attributes # 8 measures"
   ]
  },
  {
   "cell_type": "markdown",
   "metadata": {},
   "source": [
    "We used 11 alpha settings = [1.01, 1.03, 1.06, 1.07, 1.1, 1.5, 2.0, 2.5, 3.0, 3.5, 4.0]"
   ]
  },
  {
   "cell_type": "code",
   "execution_count": 4,
   "metadata": {
    "collapsed": true
   },
   "outputs": [],
   "source": [
    "# The number of sample is 98052*8 for the attributes \n",
    "# The number of sample is 98052*8 for the measures\n",
    "N_sample = rows*cols\n",
    "a_list =[1.01, 1.03, 1.06, 1.07, 1.1, 1.5, 2.0, 2.5, 3.0, 3.5, 4.0]"
   ]
  },
  {
   "cell_type": "code",
   "execution_count": 5,
   "metadata": {},
   "outputs": [
    {
     "name": "stdout",
     "output_type": "stream",
     "text": [
      "a, column rank, number of missing, percentage\n",
      "1.01 1 291491 0.37160256802512953\n",
      "1.01 2 143985 0.18355693917513155\n",
      "1.01 3 95968 0.12234324644066413\n",
      "1.01 4 72114 0.0919333618896096\n",
      "1.01 5 57140 0.07284400114225105\n",
      "1.01 6 47489 0.06054058050830172\n",
      "1.01 7 40771 0.051976247297352424\n",
      "1.01 8 35458 0.04520305552155999\n",
      "\n",
      "\n",
      "1.03 1 295380 0.37656039652429324\n",
      "1.03 2 144736 0.18451433933015135\n",
      "1.03 3 95095 0.1212303165667197\n",
      "1.03 4 71049 0.09057566393342308\n",
      "1.03 5 56601 0.0721568657447069\n",
      "1.03 6 46604 0.05941235262921715\n",
      "1.03 7 39852 0.05080467507037082\n",
      "1.03 8 35099 0.04474539020111777\n",
      "\n",
      "\n",
      "1.06 1 303042 0.3863281728062661\n",
      "1.06 2 145428 0.18539652429323217\n",
      "1.06 3 94561 0.12054955533798392\n",
      "1.06 4 69970 0.08920011830457308\n",
      "1.06 5 54981 0.07009163505078937\n",
      "1.06 6 44847 0.057172469709949825\n",
      "1.06 7 38240 0.04874964304654673\n",
      "1.06 8 33347 0.04251188145065883\n",
      "\n",
      "\n",
      "1.07 1 304922 0.38872486027821973\n",
      "1.07 2 146106 0.1862608615836495\n",
      "1.07 3 94092 0.11995165830375719\n",
      "1.07 4 69295 0.08833960551544079\n",
      "1.07 5 54350 0.06928721494717088\n",
      "1.07 6 44768 0.0570717578427773\n",
      "1.07 7 38016 0.048464080283930976\n",
      "1.07 8 32867 0.041899961245053643\n",
      "\n",
      "\n",
      "1.1 1 312148 0.39793680904010115\n",
      "1.1 2 146041 0.18617799738914045\n",
      "1.1 3 92837 0.11835174193285196\n",
      "1.1 4 68106 0.08682382817280626\n",
      "1.1 5 53435 0.068120742055236\n",
      "1.1 6 43551 0.05552028515481581\n",
      "1.1 7 36945 0.0470987333251744\n",
      "1.1 8 31353 0.039969862929873944\n",
      "\n",
      "\n",
      "1.5 1 407353 0.5193073573206054\n",
      "1.5 2 143843 0.18337591278097337\n",
      "1.5 3 78107 0.09957344062334271\n",
      "1.5 4 51280 0.06537347529882104\n",
      "1.5 5 36527 0.04656585281279321\n",
      "1.5 6 27364 0.03488455105454249\n",
      "1.5 7 22078 0.028145779790315344\n",
      "1.5 8 17864 0.022773630318606453\n",
      "\n",
      "\n",
      "2.0 1 513727 0.6549165238852853\n",
      "2.0 2 128413 0.1637052278382899\n",
      "2.0 3 56802 0.07241310733080407\n",
      "2.0 4 32258 0.041123587484192065\n",
      "2.0 5 20539 0.026183810631093707\n",
      "2.0 6 14199 0.0181013645820585\n",
      "2.0 7 10414 0.013276118794109249\n",
      "2.0 8 8064 0.010280259454167176\n",
      "\n",
      "\n",
      "2.5 1 596903 0.7609520968465712\n",
      "2.5 2 105394 0.13435982947823605\n",
      "2.5 3 38187 0.048682076857177826\n",
      "2.5 4 18446 0.023515583567902745\n",
      "2.5 5 10785 0.013749082119691593\n",
      "2.5 6 6765 0.008624250397748133\n",
      "2.5 7 4579 0.005837463794721168\n",
      "2.5 8 3357 0.004279616937951291\n",
      "\n",
      "\n",
      "3.0 1 656029 0.8363279178395138\n",
      "3.0 2 82415 0.10506542446864929\n",
      "3.0 3 24249 0.030913443886917146\n",
      "3.0 4 10300 0.013130787745278016\n",
      "3.0 5 5269 0.006717099090278627\n",
      "3.0 6 2921 0.003723789417859911\n",
      "3.0 7 1921 0.002448955656182434\n",
      "3.0 8 1312 0.0016725818953208503\n",
      "\n",
      "\n",
      "3.5 1 697147 0.8887465324521683\n",
      "3.5 2 61831 0.0788242463182801\n",
      "3.5 3 14821 0.01889431118182189\n",
      "3.5 4 5568 0.007098274385020194\n",
      "3.5 5 2491 0.003175610900338596\n",
      "3.5 6 1268 0.0016164892098070411\n",
      "3.5 7 810 0.0010326153469587566\n",
      "3.5 8 480 0.0006119202056051891\n",
      "\n",
      "\n",
      "4.0 1 725230 0.9245476889813569\n",
      "4.0 2 45244 0.05767857871333578\n",
      "4.0 3 9016 0.011493901195284135\n",
      "4.0 4 2718 0.0034649981642393833\n",
      "4.0 5 1149 0.0014647839921674215\n",
      "4.0 6 562 0.0007164565740627422\n",
      "4.0 7 322 0.00041049647126014765\n",
      "4.0 8 175 0.0002230959082935585\n",
      "\n",
      "\n"
     ]
    }
   ],
   "source": [
    "print(\"a, column rank, number of missing, percentage\")\n",
    "for a in a_list:\n",
    "    s = randZipf(cols, a, N_sample)\n",
    "    unique, counts = np.unique(s, return_counts=True)\n",
    "    d = dict(zip(unique, counts))\n",
    "    for i in column_rank:    \n",
    "        num_missing, percentage = d[i], d[i]/N_sample\n",
    "        print(a, i+1, num_missing, percentage)\n",
    "    print(\"\\n\")"
   ]
  },
  {
   "cell_type": "markdown",
   "metadata": {},
   "source": [
    "If we see the result above, using alpha = 1.01, the number of missing in each columns will be: \n",
    "\n",
    "`\n",
    "a, column rank, number of missing, percentage\n",
    "1.01 1 291734 0.3719123526292171\n",
    "1.01 2 144161 0.1837813099171868\n",
    "1.01 3 95464 0.12170073022477869\n",
    "1.01 4 71719 0.091429802553747\n",
    "1.01 5 57363 0.07312828907110513\n",
    "1.01 6 47763 0.06088988495900135\n",
    "1.01 7 40522 0.051658813690694735\n",
    "1.01 8 35690 0.04549881695426916\n",
    "`\n"
   ]
  },
  {
   "cell_type": "markdown",
   "metadata": {},
   "source": [
    "And using alpha = 4.0, the number of missing in each columns will be: \n",
    "\n",
    "`\n",
    "a, column rank, number of missing, percentage\n",
    "4.0 1 725361 0.9247146922041366\n",
    "4.0 2 45188 0.05760718802268184\n",
    "4.0 3 8886 0.011328172806266064\n",
    "4.0 4 2795 0.0035631603638885487\n",
    "4.0 5 1150 0.0014660588259290989\n",
    "4.0 6 570 0.0007266552441561621\n",
    "4.0 7 294 0.0003748011259331783\n",
    "4.0 8 172 0.00021927140700852608\n",
    "`\n",
    "\n",
    "The sum number of missing = N_sample and the sum of percentage missing = 100%"
   ]
  },
  {
   "cell_type": "markdown",
   "metadata": {},
   "source": [
    "In this experiment we used different missing percentage: \n",
    "10%, 20%, 30%,..... 90% missing based on Zipf distribution"
   ]
  },
  {
   "cell_type": "markdown",
   "metadata": {},
   "source": [
    "Let check the real dataset, for instance, dataset with 10% missing on measure based on zipf distribution with alpha = 1.01"
   ]
  },
  {
   "cell_type": "code",
   "execution_count": 6,
   "metadata": {},
   "outputs": [
    {
     "data": {
      "text/plain": [
       "race                    0\n",
       "gender                  0\n",
       "age                     0\n",
       "admission_type_id       0\n",
       "diag_1                  0\n",
       "insulin                 0\n",
       "change                  0\n",
       "readmitted              0\n",
       "number_emergency      493\n",
       "number_outpatient     243\n",
       "number_inpatient      162\n",
       "number_diagnoses      121\n",
       "num_procedures         97\n",
       "num_medications        77\n",
       "time_in_hospital       70\n",
       "num_lab_procedures     61\n",
       "dtype: int64"
      ]
     },
     "execution_count": 6,
     "metadata": {},
     "output_type": "execute_result"
    }
   ],
   "source": [
    "# Example count zipf missing from DB\n",
    "# Example missing zipf on db_10zipf101_missing_measure1 10% missing measures based on Zipf alpha 1.01\n",
    "\n",
    "conn = pg.connect(\"dbname=same_len_col_large_experiment_zipf user=postgres password=zenvisage\")\n",
    "db_10zipf101_missing_measure1 = psql.read_sql(\"SELECT * FROM db_10zipf101_missing_measure1\", conn)\n",
    "db_10zipf101_missing_measure1.drop(db_10zipf101_missing_measure1.columns[[0]], axis=1, inplace=True)\n",
    "db_10zipf101_missing_measure1.isnull().sum()"
   ]
  },
  {
   "cell_type": "code",
   "execution_count": 7,
   "metadata": {},
   "outputs": [
    {
     "data": {
      "text/plain": [
       "1324"
      ]
     },
     "execution_count": 7,
     "metadata": {},
     "output_type": "execute_result"
    }
   ],
   "source": [
    "# Sum all missing values\n",
    "db_10zipf101_missing_measure1.isnull().sum().sum()"
   ]
  },
  {
   "cell_type": "markdown",
   "metadata": {},
   "source": [
    "As shown in the result above the number of missing is very small. Then let see if we use the extream setting: \n",
    "\n",
    "1. 100% of missing on attributes\n",
    "2. Zipf distribution with alpha = 4"
   ]
  },
  {
   "cell_type": "code",
   "execution_count": 8,
   "metadata": {},
   "outputs": [
    {
     "data": {
      "text/plain": [
       "gender                90634\n",
       "admission_type_id      5657\n",
       "age                    1122\n",
       "insulin                 357\n",
       "race                    145\n",
       "diag_1                   71\n",
       "change                   40\n",
       "readmitted               22\n",
       "time_in_hospital          0\n",
       "num_lab_procedures        0\n",
       "num_procedures            0\n",
       "num_medications           0\n",
       "number_outpatient         0\n",
       "number_emergency          0\n",
       "number_inpatient          0\n",
       "number_diagnoses          0\n",
       "dtype: int64"
      ]
     },
     "execution_count": 8,
     "metadata": {},
     "output_type": "execute_result"
    }
   ],
   "source": [
    "# Example count zipf missing from DB\n",
    "# Example missing zipf on db_100zipf400_missing_attr1 100% missing attributes based on Zipf alpha 4\n",
    "\n",
    "conn = pg.connect(\"dbname=same_len_col_large_experiment_zipf user=postgres password=zenvisage\")\n",
    "db_100zipf400_missing_attr1 = psql.read_sql(\"SELECT * FROM db_100zipf400_missing_attr1\", conn)\n",
    "db_100zipf400_missing_attr1.drop(db_100zipf400_missing_attr1.columns[[0]], axis=1, inplace=True)\n",
    "db_100zipf400_missing_attr1.isnull().sum()"
   ]
  },
  {
   "cell_type": "markdown",
   "metadata": {},
   "source": [
    "The first column has the highest number of missing which is 92% of cells will be replaced with NaN. \n",
    "However, with this condition we cannot compare between a certain percent missing on random setting and on zipf distribution setting. "
   ]
  },
  {
   "cell_type": "markdown",
   "metadata": {},
   "source": [
    "Let's check the sum of missing values from 100% missing based on zipf distribution with alpha = 4"
   ]
  },
  {
   "cell_type": "code",
   "execution_count": 9,
   "metadata": {},
   "outputs": [
    {
     "data": {
      "text/plain": [
       "98048"
      ]
     },
     "execution_count": 9,
     "metadata": {},
     "output_type": "execute_result"
    }
   ],
   "source": [
    "db_100zipf400_missing_attr1.isnull().sum().sum()"
   ]
  }
 ],
 "metadata": {
  "kernelspec": {
   "display_name": "Python 3",
   "language": "python",
   "name": "python3"
  },
  "language_info": {
   "codemirror_mode": {
    "name": "ipython",
    "version": 3
   },
   "file_extension": ".py",
   "mimetype": "text/x-python",
   "name": "python",
   "nbconvert_exporter": "python",
   "pygments_lexer": "ipython3",
   "version": "3.6.3"
  }
 },
 "nbformat": 4,
 "nbformat_minor": 2
}
